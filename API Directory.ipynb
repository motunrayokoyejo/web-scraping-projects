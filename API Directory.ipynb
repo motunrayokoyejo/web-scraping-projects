{
 "cells": [
  {
   "cell_type": "code",
   "execution_count": null,
   "metadata": {},
   "outputs": [],
   "source": [
    "from bs4 import BeautifulSoup\n",
    "import requests\n",
    "import pandas as pd"
   ]
  },
  {
   "cell_type": "code",
   "execution_count": null,
   "metadata": {},
   "outputs": [],
   "source": [
    "url = 'https://www.programmableweb.com/category/all/apis'\n",
    "\n",
    "api_count = 0\n",
    "api_dict = {}\n",
    "while True:\n",
    "    response = requests.get(url)\n",
    "    data = response.text\n",
    "    soup = BeautifulSoup(data,'html.parser')\n"
   ]
  },
  {
   "cell_type": "code",
   "execution_count": null,
   "metadata": {},
   "outputs": [],
   "source": [
    "apis=soup.find_all('tr',{\"class\":['odd','even','odd views-row-first','even views-row-last']})\n",
    "for api in apis:\n",
    "    api_title = api.find('td',{'class':'views-field views-field-pw-version-title'})\n",
    "    api_name = api_title.text\n",
    "    api_url =api_title.find('a').get('href')\n",
    "    api_category = api.find('td',{'class':'views-field views-field-field-article-primary-category'}).text\n",
    "    api_description = api.find('td',{'class':'views-field views-field-search-api-excerpt views-field-field-api-description hidden-xs visible-md visible-sm col-md-8'}).text\n",
    "    #print('API name:', api_name, 'API address',api_url, 'Category',api_category, 'Description:',api_description, '/n----' )\n",
    "    \n",
    "    api_count+=1\n",
    "    api_dict[api_count] = [api_name,api_url,api_category,api_description]\n",
    "    url_tag = soup.find('a',{'title':'Go to next page'})\n",
    "\n",
    "    if url_tag.get('href'):\n",
    "        url = 'https://www.programmableweb.com/category/all/apis' + url_tag.get('href') \n",
    "        print(url)\n",
    "    else:\n",
    "        break\n",
    "        \n",
    "api_df = pd.DataFrame.from_dict(api_dict, orient='index', columns=['API name', 'API Address', 'API Category', ' API Description'])\n",
    "print(api_df.head())\n",
    "api_df.to_csv('api_df.csv')"
   ]
  }
 ],
 "metadata": {
  "kernelspec": {
   "display_name": "Python 3",
   "language": "python",
   "name": "python3"
  },
  "language_info": {
   "codemirror_mode": {
    "name": "ipython",
    "version": 3
   },
   "file_extension": ".py",
   "mimetype": "text/x-python",
   "name": "python",
   "nbconvert_exporter": "python",
   "pygments_lexer": "ipython3",
   "version": "3.7.3"
  }
 },
 "nbformat": 4,
 "nbformat_minor": 2
}
